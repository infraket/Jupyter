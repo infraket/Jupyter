{
 "cells": [
  {
   "cell_type": "code",
   "execution_count": 1,
   "id": "349f159b",
   "metadata": {},
   "outputs": [],
   "source": [
    "import numpy as np"
   ]
  },
  {
   "cell_type": "code",
   "execution_count": 35,
   "id": "d5475f34",
   "metadata": {},
   "outputs": [],
   "source": [
    "def isSquareOperations(a): \n",
    "    \n",
    "       \n",
    "    assert all (len (row) == len (a) for row in a), \"matrix is not Square\"\n",
    "    \n",
    "   \n",
    "    print(f\"determinant is {np.linalg.det(a)}\")\n",
    "    if np.count_nonzero(a - np.diag(np.diagonal(a))) == 0:\n",
    "        print(\"diagonal matrix\")\n",
    "    if np.linalg.det(a) == 0:\n",
    "        print(\"the matrix is singular\")    \n",
    "        \n",
    "   "
   ]
  },
  {
   "cell_type": "code",
   "execution_count": 30,
   "id": "ac36b1f0",
   "metadata": {},
   "outputs": [],
   "source": [
    "m = np.array([\n",
    "        [2, 0, 0, 0],\n",
    "        [0, 3, 0, 0],\n",
    "        [0, 0, 4, 4],\n",
    "        [0, 0, 2, 5],\n",
    "   \n",
    "    ], dtype=np.float_)"
   ]
  },
  {
   "cell_type": "code",
   "execution_count": 39,
   "id": "e93ef805",
   "metadata": {},
   "outputs": [],
   "source": [
    "f = np.array([\n",
    "        [2, 0, 0, 0],\n",
    "        [0, 3, 0, 0],\n",
    "        [0, 0, 4, 0],\n",
    "        [0, 0, 0, 5],\n",
    "   \n",
    "    ], dtype=np.float_)"
   ]
  },
  {
   "cell_type": "code",
   "execution_count": 40,
   "id": "9e72b05d",
   "metadata": {},
   "outputs": [],
   "source": [
    "n = np.array([\n",
    "        [2, 0, 0, 0],\n",
    "        [0, 3, 0, 0],\n",
    "        [0, 0, 4, 4],\n",
    "        [0, 0, 5, 5],\n",
    "        [0, 0, 5, 6],\n",
    "   \n",
    "    ], dtype=np.float_)"
   ]
  },
  {
   "cell_type": "code",
   "execution_count": 41,
   "id": "27dcb87d",
   "metadata": {},
   "outputs": [
    {
     "name": "stdout",
     "output_type": "stream",
     "text": [
      "determinant is 72.0\n"
     ]
    }
   ],
   "source": [
    "isSquare(m)"
   ]
  },
  {
   "cell_type": "code",
   "execution_count": 43,
   "id": "4cbf9b8d",
   "metadata": {},
   "outputs": [
    {
     "name": "stdout",
     "output_type": "stream",
     "text": [
      "determinant is 119.99999999999997\n",
      "diagonal matrix\n"
     ]
    }
   ],
   "source": [
    "isSquare(f)"
   ]
  },
  {
   "cell_type": "code",
   "execution_count": 42,
   "id": "5898459d",
   "metadata": {},
   "outputs": [
    {
     "ename": "AssertionError",
     "evalue": "matrix is not Square",
     "output_type": "error",
     "traceback": [
      "\u001b[1;31m---------------------------------------------------------------------------\u001b[0m",
      "\u001b[1;31mAssertionError\u001b[0m                            Traceback (most recent call last)",
      "\u001b[1;32m~\\AppData\\Local\\Temp/ipykernel_6372/2496419868.py\u001b[0m in \u001b[0;36m<module>\u001b[1;34m\u001b[0m\n\u001b[1;32m----> 1\u001b[1;33m \u001b[0misSquare\u001b[0m\u001b[1;33m(\u001b[0m\u001b[0mn\u001b[0m\u001b[1;33m)\u001b[0m\u001b[1;33m\u001b[0m\u001b[1;33m\u001b[0m\u001b[0m\n\u001b[0m",
      "\u001b[1;32m~\\AppData\\Local\\Temp/ipykernel_6372/3961234567.py\u001b[0m in \u001b[0;36misSquare\u001b[1;34m(a)\u001b[0m\n\u001b[0;32m      2\u001b[0m \u001b[1;33m\u001b[0m\u001b[0m\n\u001b[0;32m      3\u001b[0m \u001b[1;33m\u001b[0m\u001b[0m\n\u001b[1;32m----> 4\u001b[1;33m     \u001b[1;32massert\u001b[0m \u001b[0mall\u001b[0m \u001b[1;33m(\u001b[0m\u001b[0mlen\u001b[0m \u001b[1;33m(\u001b[0m\u001b[0mrow\u001b[0m\u001b[1;33m)\u001b[0m \u001b[1;33m==\u001b[0m \u001b[0mlen\u001b[0m \u001b[1;33m(\u001b[0m\u001b[0ma\u001b[0m\u001b[1;33m)\u001b[0m \u001b[1;32mfor\u001b[0m \u001b[0mrow\u001b[0m \u001b[1;32min\u001b[0m \u001b[0ma\u001b[0m\u001b[1;33m)\u001b[0m\u001b[1;33m,\u001b[0m \u001b[1;34m\"matrix is not Square\"\u001b[0m\u001b[1;33m\u001b[0m\u001b[1;33m\u001b[0m\u001b[0m\n\u001b[0m\u001b[0;32m      5\u001b[0m \u001b[1;33m\u001b[0m\u001b[0m\n\u001b[0;32m      6\u001b[0m \u001b[1;33m\u001b[0m\u001b[0m\n",
      "\u001b[1;31mAssertionError\u001b[0m: matrix is not Square"
     ]
    }
   ],
   "source": [
    "isSquare(n)"
   ]
  },
  {
   "cell_type": "code",
   "execution_count": null,
   "id": "b0075604",
   "metadata": {},
   "outputs": [],
   "source": []
  }
 ],
 "metadata": {
  "kernelspec": {
   "display_name": "Python 3 (ipykernel)",
   "language": "python",
   "name": "python3"
  },
  "language_info": {
   "codemirror_mode": {
    "name": "ipython",
    "version": 3
   },
   "file_extension": ".py",
   "mimetype": "text/x-python",
   "name": "python",
   "nbconvert_exporter": "python",
   "pygments_lexer": "ipython3",
   "version": "3.9.7"
  }
 },
 "nbformat": 4,
 "nbformat_minor": 5
}
