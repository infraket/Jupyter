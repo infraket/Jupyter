{
 "cells": [
  {
   "cell_type": "markdown",
   "id": "201aa93c",
   "metadata": {},
   "source": [
    "Вам даны два отсортированных списка (по возрастанию) длина которых a и b.\n",
    "\n",
    "Задача: создать функцию, которая будет на выходе иметь один общий отсортированный список res\n",
    "    (по убыванию). Пользоваться sort или иными функциями для сортировки ЗАПРЕЩЕНО!"
   ]
  },
  {
   "cell_type": "code",
   "execution_count": 1,
   "id": "dda3b461",
   "metadata": {},
   "outputs": [],
   "source": [
    "a = [0,9]\n",
    "b = [1,7,10,11]"
   ]
  },
  {
   "cell_type": "code",
   "execution_count": 2,
   "id": "608877db",
   "metadata": {},
   "outputs": [],
   "source": [
    "def sortlist(a,b):\n",
    "    c = a + b\n",
    "    swap = True\n",
    "    while swap:\n",
    "        \n",
    "        swap = False\n",
    "        for i in range(len(c)-1):\n",
    "            if c[i] > c[i+1]:\n",
    "                c[i+1],c[i] = c[i],c[i+1]\n",
    "                swap = True \n",
    "    return c           \n",
    "  \n",
    "        \n",
    "    \n",
    "    "
   ]
  },
  {
   "cell_type": "code",
   "execution_count": 3,
   "id": "c9d4aa3a",
   "metadata": {},
   "outputs": [
    {
     "data": {
      "text/plain": [
       "[0, 1, 7, 9, 10, 11]"
      ]
     },
     "execution_count": 3,
     "metadata": {},
     "output_type": "execute_result"
    }
   ],
   "source": [
    "sortlist(a,b)"
   ]
  },
  {
   "cell_type": "markdown",
   "id": "21272916",
   "metadata": {},
   "source": [
    "У Игоря есть с1 бенгальских огней. Когда Игорь тратит один огонек, сначала он сверкает два часа, а затем тухнет. Игорь умный парень и из b1 потухших огоньков можно сделать 2 новых бенгальских огня, которые можно зажечь.\n",
    "\n",
    "Теперь Игорю интересно, сколько часов будет гореть огонек, если он будет действовать оптимальным образом. "
   ]
  },
  {
   "cell_type": "code",
   "execution_count": 4,
   "id": "53b0d4e3",
   "metadata": {},
   "outputs": [],
   "source": [
    "def counter(c1, b1):\n",
    "    hours = 2 * c1\n",
    "    \n",
    "    fire_count = c1\n",
    "    while fire_count >= b1:\n",
    "        hours += (fire_count / b1) * 4\n",
    "        fire_count = fire_count % b1 + 2 * (fire_count / b1)\n",
    "    return hours"
   ]
  },
  {
   "cell_type": "code",
   "execution_count": 5,
   "id": "3879a1e2",
   "metadata": {},
   "outputs": [
    {
     "data": {
      "text/plain": [
       "8"
      ]
     },
     "execution_count": 5,
     "metadata": {},
     "output_type": "execute_result"
    }
   ],
   "source": [
    "counter(4,8)"
   ]
  },
  {
   "cell_type": "code",
   "execution_count": null,
   "id": "1480af5f",
   "metadata": {},
   "outputs": [],
   "source": []
  }
 ],
 "metadata": {
  "kernelspec": {
   "display_name": "Python 3 (ipykernel)",
   "language": "python",
   "name": "python3"
  },
  "language_info": {
   "codemirror_mode": {
    "name": "ipython",
    "version": 3
   },
   "file_extension": ".py",
   "mimetype": "text/x-python",
   "name": "python",
   "nbconvert_exporter": "python",
   "pygments_lexer": "ipython3",
   "version": "3.9.7"
  }
 },
 "nbformat": 4,
 "nbformat_minor": 5
}
