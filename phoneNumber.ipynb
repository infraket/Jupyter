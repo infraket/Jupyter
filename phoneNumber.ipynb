{
 "cells": [
  {
   "cell_type": "code",
   "execution_count": 1,
   "id": "7c91f40b",
   "metadata": {},
   "outputs": [],
   "source": [
    "import phonenumbers as pn\n",
    "from phonenumbers import geocoder, carrier,timezone"
   ]
  },
  {
   "cell_type": "code",
   "execution_count": 2,
   "id": "f19f65e1",
   "metadata": {},
   "outputs": [],
   "source": [
    "ph=pn.parse('+79171721564')"
   ]
  },
  {
   "cell_type": "code",
   "execution_count": 3,
   "id": "2fca0ddc",
   "metadata": {},
   "outputs": [
    {
     "data": {
      "text/plain": [
       "1"
      ]
     },
     "execution_count": 3,
     "metadata": {},
     "output_type": "execute_result"
    }
   ],
   "source": [
    "pn.number_type(ph)"
   ]
  },
  {
   "cell_type": "code",
   "execution_count": 4,
   "id": "d57ecc7c",
   "metadata": {},
   "outputs": [
    {
     "data": {
      "text/plain": [
       "''"
      ]
     },
     "execution_count": 4,
     "metadata": {},
     "output_type": "execute_result"
    }
   ],
   "source": [
    "carrier.name_for_number(ph, lang='ru')"
   ]
  },
  {
   "cell_type": "code",
   "execution_count": 5,
   "id": "5e56fafa",
   "metadata": {},
   "outputs": [
    {
     "data": {
      "text/plain": [
       "'Russia'"
      ]
     },
     "execution_count": 5,
     "metadata": {},
     "output_type": "execute_result"
    }
   ],
   "source": [
    "geocoder.country_name_for_number(ph,'en')"
   ]
  },
  {
   "cell_type": "code",
   "execution_count": 8,
   "id": "b68b77b6",
   "metadata": {},
   "outputs": [
    {
     "data": {
      "text/plain": [
       "'Россия'"
      ]
     },
     "execution_count": 8,
     "metadata": {},
     "output_type": "execute_result"
    }
   ],
   "source": [
    "geocoder.description_for_number(ph,'ru')"
   ]
  },
  {
   "cell_type": "code",
   "execution_count": 7,
   "id": "844df9c2",
   "metadata": {},
   "outputs": [
    {
     "data": {
      "text/plain": [
       "('Asia/Almaty',\n",
       " 'Asia/Anadyr',\n",
       " 'Asia/Aqtobe',\n",
       " 'Asia/Irkutsk',\n",
       " 'Asia/Kamchatka',\n",
       " 'Asia/Krasnoyarsk',\n",
       " 'Asia/Magadan',\n",
       " 'Asia/Novosibirsk',\n",
       " 'Asia/Omsk',\n",
       " 'Asia/Sakhalin',\n",
       " 'Asia/Vladivostok',\n",
       " 'Asia/Yakutsk',\n",
       " 'Asia/Yekaterinburg',\n",
       " 'Europe/Bucharest',\n",
       " 'Europe/Moscow',\n",
       " 'Europe/Samara')"
      ]
     },
     "execution_count": 7,
     "metadata": {},
     "output_type": "execute_result"
    }
   ],
   "source": [
    "timezone.time_zones_for_number(ph)"
   ]
  },
  {
   "cell_type": "code",
   "execution_count": null,
   "id": "72675059",
   "metadata": {},
   "outputs": [],
   "source": []
  }
 ],
 "metadata": {
  "kernelspec": {
   "display_name": "Python 3 (ipykernel)",
   "language": "python",
   "name": "python3"
  },
  "language_info": {
   "codemirror_mode": {
    "name": "ipython",
    "version": 3
   },
   "file_extension": ".py",
   "mimetype": "text/x-python",
   "name": "python",
   "nbconvert_exporter": "python",
   "pygments_lexer": "ipython3",
   "version": "3.9.7"
  }
 },
 "nbformat": 4,
 "nbformat_minor": 5
}
